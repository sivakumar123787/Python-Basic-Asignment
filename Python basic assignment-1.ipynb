{
 "cells": [
  {
   "cell_type": "code",
   "execution_count": 1,
   "id": "4a764cbf",
   "metadata": {},
   "outputs": [],
   "source": [
    "#Python basic  assignment-1"
   ]
  },
  {
   "cell_type": "code",
   "execution_count": null,
   "id": "c1d0c915",
   "metadata": {},
   "outputs": [],
   "source": [
    "#question -1\n",
    "In the below elements which of them are values or an expression? \n",
    "eg:- values can be\n",
    "integer or string and expressions will be mathematical operators.\n",
    "*\n",
    "&\n",
    "hello\n",
    "-87.8\n",
    "-\n",
    "/\n",
    "+\n",
    "6\n",
    "\n",
    "#Answer-1\n",
    "\n",
    "* -expresion\n",
    "'hello'-value\n",
    "-87.8 - value\n",
    "- - expression\n",
    "/ - expression\n",
    "+ - expresssion\n",
    "6 - value"
   ]
  },
  {
   "cell_type": "code",
   "execution_count": null,
   "id": "28c88d20",
   "metadata": {},
   "outputs": [],
   "source": [
    "#Question -2\n",
    "What is the difference between string and variable?\n",
    "\n",
    "#Answer-2\n",
    "String - String is nothing but a collection of characters. It is represented in \"hello\" or 'hello'\n",
    "Variable - Variable is used to store the data in a program\n",
    "\n",
    "The main difference between string and variable is-Variables are symbols that you can use to store data in a program.\n",
    "                                                   You can think of them as an empty box that you fill with some data or value. \n",
    "                                                   Strings are data, so we can use them to fill up a variable. Declaring strings as variables can make it easier for us to work with strings throughout our Python programs"
   ]
  },
  {
   "cell_type": "code",
   "execution_count": null,
   "id": "de76b1db",
   "metadata": {},
   "outputs": [],
   "source": [
    "#Question-3\n",
    "\n",
    "Describe three different data types.\n",
    "\n",
    "#Answer-3\n",
    "Text Type:str\n",
    "Numeric Types:int, float, complex\n",
    "Sequence Types:list, tuple, range\n",
    "Mapping Type:dict\n",
    "Set Types:set, frozenset\n",
    "Boolean Type:bool\n",
    "Binary Types:bytes, bytearray, memoryview\n",
    "\n",
    "Int- int is used to store the integers values like without decimal points.\n",
    "Example: 22,3456 7890,1\n",
    "Float-Float is used to store the decimal type of integer values\n",
    "Example:22.34,56.78,0000.455\n",
    "list- List is used to store the values with different data types.\n",
    "      List is muttable we can change the values wherver we want\n",
    "Example- list=[12.'hello',12.45,True]\n",
    "Tuple- tuple is same as list but the main difference between list and tuple\n",
    "       is in tuple we cant change the values once we assign."
   ]
  },
  {
   "cell_type": "code",
   "execution_count": null,
   "id": "51755d5e",
   "metadata": {},
   "outputs": [],
   "source": [
    "#Question-4\n",
    "What is an expression made up of? What do all expressions do?\n",
    "\n",
    "#Answer-4\n",
    "An expression is a construct made up of variables, operators, and method invocations, which are constructed according to the syntax of the language, that evaluates to a single value.\n",
    "\n",
    "What do all expressions do?\n",
    "Expressions are representations of value. \n",
    "They are different from statement in the fact that statements do something while expressions are representation of value.\n",
    "For example any string is also an expressions since it represents the value of the string as well."
   ]
  },
  {
   "cell_type": "code",
   "execution_count": null,
   "id": "312508fa",
   "metadata": {},
   "outputs": [],
   "source": [
    "#Question-5\n",
    "This assignment statements, like spam = 10. What is the difference between an\n",
    "expression and a statement?\n",
    "\n",
    "#Answer-5\n",
    "An expression is something that can be reduced to a value, for example \"1+3\" is an expression, but \"foo = 1+3\" is not. \n",
    "If it doesn't work, it's a statement, if it does, it's an expression. \n",
    "As it cannot be reduced to a value."
   ]
  },
  {
   "cell_type": "code",
   "execution_count": 3,
   "id": "078901e8",
   "metadata": {},
   "outputs": [
    {
     "data": {
      "text/plain": [
       "23"
      ]
     },
     "execution_count": 3,
     "metadata": {},
     "output_type": "execute_result"
    }
   ],
   "source": [
    "#Question-6\n",
    "After running the following code, what does the variable bacon contain?\n",
    "bacon = 22\n",
    "bacon + 1\n",
    "\n",
    "#Answer-6\n",
    "\n",
    "baccon=22\n",
    "baccon+1\n",
    "#Because Python executs line by line so the value is updated to 23\n"
   ]
  },
  {
   "cell_type": "code",
   "execution_count": 6,
   "id": "0ec834a7",
   "metadata": {},
   "outputs": [
    {
     "data": {
      "text/plain": [
       "'spamspamspam'"
      ]
     },
     "execution_count": 6,
     "metadata": {},
     "output_type": "execute_result"
    }
   ],
   "source": [
    "#Question-7\n",
    "#What should the values of the following two terms be?\n",
    "#'spam'+'spamspam'\n",
    "#'spam'*3\n",
    "\n",
    "#Answer-7\n",
    "'spam'+'spamspam'\n",
    "'spam'*3"
   ]
  },
  {
   "cell_type": "code",
   "execution_count": null,
   "id": "7c6d2acb",
   "metadata": {},
   "outputs": [],
   "source": [
    "#Question-8\n",
    "Why is eggs a valid variable name while 100 is invalid?\n",
    "\n",
    "#Answer-8\n",
    "Variable name cannot be start with number So it is not valid , Egg is valid "
   ]
  },
  {
   "cell_type": "code",
   "execution_count": 12,
   "id": "06da1f7f",
   "metadata": {},
   "outputs": [
    {
     "name": "stdout",
     "output_type": "stream",
     "text": [
      "1234\n",
      "12.345\n",
      "hello\n"
     ]
    }
   ],
   "source": [
    "#Question-9\n",
    "#What three functions can be used to get the integer, floating-point number, or string\n",
    "#version of a value?\n",
    "\n",
    "#Answer-9\n",
    "#The int() , float() , and str( ) functions will evaluate to the integer, floating-point number,\n",
    "#and string versions of the value passed to them.\n",
    "print(int(1234))\n",
    "print(float(12.345))\n",
    "print(str(\"hello\"))"
   ]
  },
  {
   "cell_type": "code",
   "execution_count": 18,
   "id": "f492b5d0",
   "metadata": {},
   "outputs": [
    {
     "data": {
      "text/plain": [
       "\"+99+'burritos\""
      ]
     },
     "execution_count": 18,
     "metadata": {},
     "output_type": "execute_result"
    }
   ],
   "source": [
    "#Question-10\n",
    "#Why does this expression cause an error? How can you fix it?\n",
    "#I have eaten '+99+'burritos'\n",
    "\n",
    "#Answer-10\n",
    "\"+99+'burritos\""
   ]
  },
  {
   "cell_type": "code",
   "execution_count": null,
   "id": "a6395b17",
   "metadata": {},
   "outputs": [],
   "source": []
  },
  {
   "cell_type": "code",
   "execution_count": null,
   "id": "8a7b9203",
   "metadata": {},
   "outputs": [],
   "source": []
  }
 ],
 "metadata": {
  "kernelspec": {
   "display_name": "Python 3 (ipykernel)",
   "language": "python",
   "name": "python3"
  },
  "language_info": {
   "codemirror_mode": {
    "name": "ipython",
    "version": 3
   },
   "file_extension": ".py",
   "mimetype": "text/x-python",
   "name": "python",
   "nbconvert_exporter": "python",
   "pygments_lexer": "ipython3",
   "version": "3.9.7"
  }
 },
 "nbformat": 4,
 "nbformat_minor": 5
}
